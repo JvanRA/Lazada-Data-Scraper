{
 "cells": [
  {
   "cell_type": "code",
   "execution_count": 2,
   "metadata": {},
   "outputs": [],
   "source": [
    "import csv\n",
    "from bs4 import BeautifulSoup"
   ]
  },
  {
   "cell_type": "code",
   "execution_count": 3,
   "metadata": {},
   "outputs": [],
   "source": [
    "from selenium import webdriver"
   ]
  },
  {
   "cell_type": "code",
   "execution_count": 4,
   "metadata": {},
   "outputs": [],
   "source": [
    "driver = webdriver.Chrome()"
   ]
  },
  {
   "cell_type": "code",
   "execution_count": 5,
   "metadata": {},
   "outputs": [],
   "source": [
    "url = 'https://www.lazada.com.ph/'\n",
    "driver.get(url)"
   ]
  },
  {
   "cell_type": "code",
   "execution_count": 6,
   "metadata": {},
   "outputs": [],
   "source": [
    "def get_url(search_term):\n",
    "    \"\"\"Generate url from search term\"\"\"\n",
    "    template = 'https://www.lazada.com.ph/catalog/?_keyori=ss&from=input&page=1{}&spm=a2o4l.home.search.go.45d8359d4CpqYE'\n",
    "    search_term = search_term.replace(' ', '+')\n",
    "    return template.format(search_term)"
   ]
  },
  {
   "cell_type": "code",
   "execution_count": 7,
   "metadata": {},
   "outputs": [
    {
     "name": "stdout",
     "output_type": "stream",
     "text": [
      "https://www.lazada.com.ph/catalog/?_keyori=ss&from=input&page=1&q=laptop&spm=a2o4l.home.search.go.45d8359d4CpqYE\n"
     ]
    }
   ],
   "source": [
    "url = get_url('&q=laptop')\n",
    "print(url)"
   ]
  },
  {
   "cell_type": "code",
   "execution_count": 8,
   "metadata": {},
   "outputs": [],
   "source": [
    "driver.get(url)"
   ]
  },
  {
   "cell_type": "markdown",
   "metadata": {},
   "source": [
    "# Extract collection"
   ]
  },
  {
   "cell_type": "code",
   "execution_count": 9,
   "metadata": {},
   "outputs": [],
   "source": [
    "soup = BeautifulSoup(driver.page_source, 'html.parser')"
   ]
  },
  {
   "cell_type": "code",
   "execution_count": 10,
   "metadata": {},
   "outputs": [],
   "source": [
    "results1 = soup.find_all('div', {'GridItem__info___3PztA'})"
   ]
  },
  {
   "cell_type": "code",
   "execution_count": 11,
   "metadata": {},
   "outputs": [
    {
     "data": {
      "text/plain": [
       "40"
      ]
     },
     "execution_count": 11,
     "metadata": {},
     "output_type": "execute_result"
    }
   ],
   "source": [
    "len(results1)"
   ]
  },
  {
   "cell_type": "markdown",
   "metadata": {},
   "source": [
    "# Prototype the record"
   ]
  },
  {
   "cell_type": "code",
   "execution_count": 12,
   "metadata": {},
   "outputs": [],
   "source": [
    "item = results1[0]"
   ]
  },
  {
   "cell_type": "code",
   "execution_count": 13,
   "metadata": {},
   "outputs": [],
   "source": [
    "atag = item.a"
   ]
  },
  {
   "cell_type": "code",
   "execution_count": 14,
   "metadata": {},
   "outputs": [],
   "source": [
    "description = atag.text"
   ]
  },
  {
   "cell_type": "code",
   "execution_count": 15,
   "metadata": {},
   "outputs": [],
   "source": [
    "url = 'https://www.lazada.com.ph' + atag.get('href')"
   ]
  },
  {
   "cell_type": "code",
   "execution_count": 16,
   "metadata": {},
   "outputs": [],
   "source": [
    "price = item.span"
   ]
  },
  {
   "cell_type": "code",
   "execution_count": 17,
   "metadata": {},
   "outputs": [],
   "source": [
    "discountprice = price.text"
   ]
  },
  {
   "cell_type": "markdown",
   "metadata": {},
   "source": [
    "# Generalize the pattern"
   ]
  },
  {
   "cell_type": "code",
   "execution_count": 31,
   "metadata": {},
   "outputs": [],
   "source": [
    "def extract_record(item):\n",
    "    \"\"\"Extract and return data from a single record\"\"\"\n",
    "    \n",
    "    #description & url\n",
    "    atag = item.a\n",
    "    description = atag.text\n",
    "    url = 'https:' + atag.get('href')\n",
    "    \n",
    "    #price\n",
    "    price = item.span\n",
    "    discountprice = price.text\n",
    "    \n",
    "    result = (description, url, discountprice)\n",
    "    \n",
    "    return result"
   ]
  },
  {
   "cell_type": "code",
   "execution_count": 32,
   "metadata": {},
   "outputs": [],
   "source": [
    "records = []\n",
    "results1 = soup.find_all('div', {'GridItem__info___3PztA'})\n",
    "\n",
    "for item in results1:\n",
    "    records.append(extract_record(item))"
   ]
  },
  {
   "cell_type": "code",
   "execution_count": 33,
   "metadata": {},
   "outputs": [
    {
     "data": {
      "text/plain": [
       "('X201i core I3 processor portable thin office business learning laptop lowest price',\n",
       " 'https://www.lazada.com.ph/products/x201i-core-i3-processor-portable-thin-office-business-learning-laptop-lowest-price-i1779486905-s7585830328.html?search=1',\n",
       " '₱7,307')"
      ]
     },
     "execution_count": 33,
     "metadata": {},
     "output_type": "execute_result"
    }
   ],
   "source": [
    "records[0]"
   ]
  },
  {
   "cell_type": "code",
   "execution_count": 34,
   "metadata": {
    "scrolled": true
   },
   "outputs": [
    {
     "name": "stdout",
     "output_type": "stream",
     "text": [
      "https://www.lazada.com.ph/products/x201i-core-i3-processor-portable-thin-office-business-learning-laptop-lowest-price-i1779486905-s7585830328.html?search=1\n",
      "https://www.lazada.com.ph/products/asus-x515-x515ep-ej096t-156-gray-intel-core-i5-11th-gen-8gb-ram-mx330-free-asus-laptop-bag-pc-central-i2099225485-s9365383176.html?search=1\n",
      "https://www.lazada.com.ph/products/laptop-sale-lenovo-x240-intel-i3-4th-gen-4gb-ram-500gb-hdd-intel-hd-grapics-wifi-ready-good-for-schooling-and-work-from-home-125-size-creen-i604914077-s1662710764.html?search=1\n",
      "https://www.lazada.com.ph/products/laptop-lowest-price-salenec-intel-core-i7-2nd-gen-8gb-ram-120gb-ssd-intel-hd-graphics-12-inches-screen-free-webcam-gaming-laptop-i1486798835-s8665167165.html?search=1\n",
      "https://www.lazada.com.ph/products/nec-versa-pro-va-e-notebook-laptop-intel-celeron-dual-core-4gb-ram-ddr3-250gb-hdd-free-laptop-bag-charger-we-also-have-desktop-pc-gaming-pc-laptop-desktop-package-pcsource-i1775102011-s7574662159.html?search=1\n",
      "https://www.lazada.com.ph/products/laptop-nec-versapro-intel-core-i5-2nd3rd-gen-4gb-ram-ddr3-250gb-hdd-156-inches-screen-display-new-stock-i1311604977-s9202019832.html?search=1\n",
      "https://www.lazada.com.ph/products/nec-mate-versa-pro-vd-d-notebook-laptop-intel-core-i5-2520m-4gb-ram-ddr3-320gb-hdd-free-laptop-bag-and-charger-we-also-have-desktop-pc-monitor-gaming-case-laptop-i7-i5-i3-ttrend-i2054036290-s9114282543.html?search=1\n",
      "https://www.lazada.com.ph/products/huawei-matebook-d15-amd-ryzen-5-3700u8gb512gb-ssdrx-vega-10156-ipswin10-laptop-i1972393695-s8590569111.html?search=1\n",
      "https://www.lazada.com.ph/products/laptop-nec-s-intel-core-i5-3rd-gen-8gb-ram-320gb-hdd-intel-hd-graphics-wifi-ready-with-charger-used-tested-units-i1567548731-s6678142294.html?search=1&freeshipping=1\n",
      "https://www.lazada.com.ph/products/hp-pavilion-laptop-15-eh1050au-15-inch-amd-ryzen5-5500u-16gb-ram-1-tbpcienvmem2-ssd-amdradeongraphics-1-year-warranty-warm-gold-i2057004927-s9133228335.html?search=1\n",
      "https://www.lazada.com.ph/products/free-giftsone-year-warrantyintel-corei3i5i7156inlaptop-sale-lowest-pricefourth-generation-core-i5-processor8gb-ram120g-ssd35ghzbuilt-in-numeric-keyboard-i2079270938-s9266023753.html?search=1&freeshipping=1\n",
      "https://www.lazada.com.ph/products/asus-tuf-gaming-f15-fx506hc-hn051t-gray-156-fhd-ips-144hz-core-i5-11400h-8gb-ram-512gb-ssd-geforce-rtx-3050-4gb-windows-10-gaming-laptop-fx506hc-hn051t-i2094143390-s9341215162.html?search=1\n",
      "https://www.lazada.com.ph/products/laptop-lifebook-intel-core-i3-4gb-ram-250gb-hdd-15-inches-screen-fujitzu-laptop-good-for-schooling-i486910107-s1274876220.html?search=1\n",
      "https://www.lazada.com.ph/products/asus-ga401qe-k2135ts-zephyrus-g-anime-matrix-led-14-white-amd-ryzen-7-5800hs-16gbddr4-82-1tbssd-4gb-rtx3050ti-windows-10-free-microsoft-office-home-and-student-2019-gaming-laptop-i2049009425-s9084391014.html?search=1\n",
      "https://www.lazada.com.ph/products/laptop-nec-i5-2520m-gen-4gb-ram-or-8gb-ram-option-320gb-hdd-intel-hd-graphics-wifi-ready-with-charger-used-i1827609565-s7774464167.html?search=1&freeshipping=1\n",
      "https://www.lazada.com.ph/products/asus-tuf-dash-f15-fx516pr-hn080t-156-eclipse-gray-intel-core-i5-11370h-16gbddr4-82-ram-512ssd-nvidia-8gb-rtx3070-windows-10-home-os-gaming-laptop-free-tuf-gaming-backpack-i1701510158-s7355494494.html?search=1\n",
      "https://www.lazada.com.ph/products/laptop-fujitsu-wkb-intel-core-i5-3rd-gen-8gb-ram-320gb-hdd-intel-hd-graphics-wifi-ready-with-charger-used-i1709974745-s7391304903.html?search=1&freeshipping=1\n",
      "https://www.lazada.com.ph/products/laptop-sale-toshiba-i3-3rd-gen-4gb-ram-250gb-hdd-wifi-ready-intel-hd-grapics-good-for-schooling-and-work-from-home-i1430760546-s5446062998.html?search=1\n",
      "https://www.lazada.com.ph/products/asus-fx516pm-hn096t-tuf-dash-15-156-black-intel-core-i7-11370h-8gb-ddr4-512ssd-6gb-rtx3060-windows-10-gaming-laptop-i1977330436-s8609666461.html?search=1\n",
      "https://www.lazada.com.ph/products/fujitsu-i3-gen3-laptop-sale-for-only-5300-i367868140-s846436383.html?search=1\n",
      "https://www.lazada.com.ph/products/laptop-toshiba-dynabook-satellite-r73f-intel-core-i5-6th-gen-23ghz-4gb-ram-120gb-ssd-intel-hd-graphics-520-good-for-school-and-work-i1298822657-s9133146851.html?search=1\n",
      "https://www.lazada.com.ph/products/laptop-toshiba-dynabook-satellite-intel-core-i5-2nd-gen-4gb-ddr3-ram-ddr3-120gb-ssd-intel-hd-graphics-good-for-office-and-school-works-i486506431-s1273032452.html?search=1&freeshipping=1\n",
      "https://www.lazada.com.ph/products/laptop-lenovo-thinkpad-x230-intel-core-i5-3rd-gen-26-ghz-dual-core-125-inches-with-built-in-camera-good-for-online-class-i1619828599-s8126743083.html?search=1\n",
      "https://www.lazada.com.ph/products/ultra-thin-brand-new-free-dph-laptop-156in-ips-high-resolution-screen-1080p-keypad-built-in-camera-core-i7-processor-21ghz-27ghz-8gb-ram-128gb-ssd-i2074989881-s9238292317.html?search=1&freeshipping=1\n",
      "https://www.lazada.com.ph/products/laptop-for-sale-nec-versa-pro-intel-core-i7-2nd-gen-8gb-ram-ddr3-120gb-ssd-12-inches-free-web-cam-intel-hd-graphics-i948680566-s3242358353.html?search=1\n",
      "https://www.lazada.com.ph/products/lenovo-ideapad-s340-13-81um004vph-133-platinum-gray-intel-core-i7-10510u-8gb-ddr4-512ssd-windows-10-home-os-work-from-home-home-schooling-laptop-i1738100634-s7472192958.html?search=1\n",
      "https://www.lazada.com.ph/products/laptop-intel-celeron-6th-gen-3855u-toshiba-4gb-ram-250gb-hdd-intel-hd-graphics-used-work-from-home-i1737396633-s7471200654.html?search=1&freeshipping=1\n",
      "https://www.lazada.com.ph/products/laptop-set-versapro-intel-core-i7-2nd-gen-8gb-ram-120gb240gb-ssd-intel-hd-graphics-12-inches-screen-free-headset-or-web-cam-i1663188129-s7497506660.html?search=1\n",
      "https://www.lazada.com.ph/products/asus-ga401qe-k2134ts-zephyrus-g-anime-matrix-led-14-black-amd-ryzen-7-5800hs-16gbddr4-82-1tbssd-4gb-rtx3050ti-windows-10-free-microsoft-office-home-and-student-2019-gaming-laptop-i2048477897-s9081552651.html?search=1\n",
      "https://www.lazada.com.ph/products/laptop-intel-core-i5-3rd-gen-free-mouse-8gb-ram-320gb-hdd-fujitsu-intel-hd-graphics-wifi-ready-with-charger-used-tested-units-i1568362149-s6684676715.html?search=1&freeshipping=1\n",
      "https://www.lazada.com.ph/products/laptop-toshiba-dynabook-satellite-intel-i3-3rd-gen-4gb-ram-250gb-hdd-i1263454342-s4557722359.html?search=1\n",
      "https://www.lazada.com.ph/products/laptop-fujitsu-lifebook-a574-intel-i5-4th-gen-8gb-ram-120gb-ssd-ntel-hd-grapics-15-inches-screen-windows-ready-i586946723-s1604474638.html?search=1\n",
      "https://www.lazada.com.ph/products/laptop-hp-probook-6560b-intel-core-i5-2nd-gen-4gb-ram-ddr3-250gb-hdd120gb-ssd-156-inches-new-stock-i1221576718-s8564240979.html?search=1\n",
      "https://www.lazada.com.ph/products/laptop-nec-intel-core-i3-3rd-gen-free-mouse-4gb-ram-320gb-hdd-intel-hd-graphics-wifi-ready-with-charger-used-i1564952779-s6665720311.html?search=1&freeshipping=1\n",
      "https://www.lazada.com.ph/products/laptop-panasonic-cf-n10-intel-core-i5-2nd3rd-gen-4gb-ram-ddr3-120gb-ssd-intel-hd-graphics-121-inches-new-stock-i486476201-s9319069951.html?search=1\n",
      "https://www.lazada.com.ph/products/free-giftsone-year-warrantybrandnew-i3i5i7-laptop-sale-lowest-price14inmodel-hp840g2i5-5300u8gb-ram256gb-ssd-i2082177894-s9283097808.html?search=1&freeshipping=1\n",
      "https://www.lazada.com.ph/products/hp-nb-15s-eq1117au-laptop-rose-gold-i1716068698-s7409290119.html?search=1\n",
      "https://www.lazada.com.ph/products/laptop-sale-lowest-pricefree-gift-laptop-e6420-core-intel-i3i5i7-4gb8gb-ram120g-ssd240gb-ssd-brand-new-camera-keyboard-mouse-radiator-mouse-pad-i2046889683-s9066819786.html?search=1&freeshipping=1\n",
      "https://www.lazada.com.ph/products/hp-envy-x360-2-in-1-156-touch-screen-laptop-amd-ryzen-7-8gb-memory-512gb-ssd-nightfall-black-i1797652486-s7629595742.html?search=1\n",
      "https://www.lazada.com.ph/products/laptops-nec-core-i3-370m-4gb-ram-320gb-hdd-weak-battery-charger-plug-in-only-wifi-ready-charger-included-i1596304920-s6829082836.html?search=1\n"
     ]
    }
   ],
   "source": [
    "for row in records:\n",
    "    print(row[1])"
   ]
  },
  {
   "cell_type": "markdown",
   "metadata": {},
   "source": [
    "# Next page"
   ]
  },
  {
   "cell_type": "code",
   "execution_count": 23,
   "metadata": {},
   "outputs": [],
   "source": [
    "def get_url(search_term):\n",
    "    \"\"\"Generate url from search term\"\"\"\n",
    "    template = 'https://www.lazada.com.ph/catalog/?_keyori=ss&from=input{}&spm=a2o4l.home.search.go.45d8359d4CpqYE'\n",
    "    search_term = search_term.replace(' ', '+')\n",
    "    \n",
    "    url = template.format(search_term)\n",
    "    \n",
    "    url +='&page={}'\n",
    "    \n",
    "    return url"
   ]
  },
  {
   "cell_type": "markdown",
   "metadata": {},
   "source": [
    "# Put all of it together"
   ]
  },
  {
   "cell_type": "code",
   "execution_count": 35,
   "metadata": {},
   "outputs": [],
   "source": [
    "import csv\n",
    "from bs4 import BeautifulSoup\n",
    "from selenium import webdriver\n",
    "\n",
    "def get_url(search_term):\n",
    "    \"\"\"Generate url from search term\"\"\"\n",
    "    template = 'https://www.lazada.com.ph/catalog/?_keyori=ss&from=input{}&spm=a2o4l.home.search.go.45d8359d4CpqYE'\n",
    "    search_term = search_term.replace(' ', '+')\n",
    "    \n",
    "    url = template.format(search_term)\n",
    "    \n",
    "    url +='&page={}'\n",
    "    \n",
    "    return url\n",
    "\n",
    "def extract_record(item):\n",
    "    \"\"\"Extract and return data from a single record\"\"\"\n",
    "    \n",
    "    #description & url\n",
    "    atag = item.a\n",
    "    description = atag.text\n",
    "    url = 'https:' + atag.get('href')\n",
    "    \n",
    "    #price\n",
    "    price = item.span\n",
    "    discountprice = price.text\n",
    "    \n",
    "    result = (description, url, discountprice)\n",
    "    \n",
    "    return result\n",
    "\n",
    "def main(search_term):\n",
    "    \"\"\"Run main program routine\"\"\"\n",
    "    \n",
    "    #startup the webdriver\n",
    "    driver = webdriver.Chrome()\n",
    "    \n",
    "    record = []\n",
    "    url = get_url(search_term)\n",
    "    \n",
    "    for page in range(1, 2):\n",
    "        driver.get(url.format(page))\n",
    "        soup = BeautifulSoup(driver.page_source, 'html.parser')\n",
    "        results1 = soup.find_all('div', {'GridItem__info___3PztA'})\n",
    "        \n",
    "        for item in results1:\n",
    "            record = extract_record(item)\n",
    "            if record:\n",
    "                records.append(record)\n",
    "            \n",
    "    driver.close()\n",
    "    \n",
    "    #save data to csv file\n",
    "    with open('results1.csv', 'w', newline='', encoding='utf-8') as f:\n",
    "        writer = csv.writer(f)\n",
    "        writer.writerow(['Description', 'URL', 'Price'])\n",
    "        writer.writerows(records)"
   ]
  },
  {
   "cell_type": "code",
   "execution_count": 36,
   "metadata": {},
   "outputs": [],
   "source": [
    "main('&q=laptop')"
   ]
  },
  {
   "cell_type": "code",
   "execution_count": null,
   "metadata": {},
   "outputs": [],
   "source": []
  }
 ],
 "metadata": {
  "kernelspec": {
   "display_name": "Python 3",
   "language": "python",
   "name": "python3"
  },
  "language_info": {
   "codemirror_mode": {
    "name": "ipython",
    "version": 3
   },
   "file_extension": ".py",
   "mimetype": "text/x-python",
   "name": "python",
   "nbconvert_exporter": "python",
   "pygments_lexer": "ipython3",
   "version": "3.8.3"
  }
 },
 "nbformat": 4,
 "nbformat_minor": 4
}

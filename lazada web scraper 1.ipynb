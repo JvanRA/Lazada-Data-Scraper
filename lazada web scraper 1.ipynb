{
 "cells": [
  {
   "cell_type": "code",
   "execution_count": 1,
   "metadata": {},
   "outputs": [],
   "source": [
    "import csv\n",
    "from bs4 import BeautifulSoup"
   ]
  },
  {
   "cell_type": "code",
   "execution_count": 2,
   "metadata": {},
   "outputs": [],
   "source": [
    "from selenium import webdriver"
   ]
  },
  {
   "cell_type": "code",
   "execution_count": 3,
   "metadata": {},
   "outputs": [],
   "source": [
    "driver = webdriver.Chrome()"
   ]
  },
  {
   "cell_type": "code",
   "execution_count": 4,
   "metadata": {},
   "outputs": [],
   "source": [
    "url = 'https://www.lazada.com.ph/'\n",
    "driver.get(url)"
   ]
  },
  {
   "cell_type": "code",
   "execution_count": 57,
   "metadata": {},
   "outputs": [],
   "source": [
    "def get_url(search_term):\n",
    "    \"\"\"Generate url from search term\"\"\"\n",
    "    template = 'https://www.lazada.com.ph/catalog/?_keyori=ss&from=input&page=1{}&spm=a2o4l.home.search.go.45d8359d4CpqYE'\n",
    "    search_term = search_term.replace(' ', '+')\n",
    "    return template.format(search_term)"
   ]
  },
  {
   "cell_type": "code",
   "execution_count": 58,
   "metadata": {},
   "outputs": [
    {
     "name": "stdout",
     "output_type": "stream",
     "text": [
      "https://www.lazada.com.ph/catalog/?_keyori=ss&from=input&page=1&q=laptop&spm=a2o4l.home.search.go.45d8359d4CpqYE\n"
     ]
    }
   ],
   "source": [
    "url = get_url('&q=laptop')\n",
    "print(url)"
   ]
  },
  {
   "cell_type": "code",
   "execution_count": 59,
   "metadata": {},
   "outputs": [],
   "source": [
    "driver.get(url)"
   ]
  },
  {
   "cell_type": "markdown",
   "metadata": {},
   "source": [
    "# Extract collection"
   ]
  },
  {
   "cell_type": "code",
   "execution_count": 60,
   "metadata": {},
   "outputs": [],
   "source": [
    "soup = BeautifulSoup(driver.page_source, 'html.parser')"
   ]
  },
  {
   "cell_type": "code",
   "execution_count": 61,
   "metadata": {},
   "outputs": [],
   "source": [
    "results1 = soup.find_all('div', {'GridItem__info___3PztA'})"
   ]
  },
  {
   "cell_type": "code",
   "execution_count": 62,
   "metadata": {},
   "outputs": [
    {
     "data": {
      "text/plain": [
       "40"
      ]
     },
     "execution_count": 62,
     "metadata": {},
     "output_type": "execute_result"
    }
   ],
   "source": [
    "len(results1)"
   ]
  },
  {
   "cell_type": "markdown",
   "metadata": {},
   "source": [
    "# Prototype the record"
   ]
  },
  {
   "cell_type": "code",
   "execution_count": 63,
   "metadata": {},
   "outputs": [],
   "source": [
    "item = results1[0]"
   ]
  },
  {
   "cell_type": "code",
   "execution_count": 64,
   "metadata": {},
   "outputs": [],
   "source": [
    "atag = item.a"
   ]
  },
  {
   "cell_type": "code",
   "execution_count": 65,
   "metadata": {},
   "outputs": [],
   "source": [
    "description = atag.text"
   ]
  },
  {
   "cell_type": "code",
   "execution_count": 66,
   "metadata": {},
   "outputs": [],
   "source": [
    "url = 'https://www.lazada.com.ph' + atag.get('href')"
   ]
  },
  {
   "cell_type": "code",
   "execution_count": 67,
   "metadata": {},
   "outputs": [],
   "source": [
    "price = item.span"
   ]
  },
  {
   "cell_type": "code",
   "execution_count": 68,
   "metadata": {},
   "outputs": [],
   "source": [
    "discountprice = price.text"
   ]
  },
  {
   "cell_type": "markdown",
   "metadata": {},
   "source": [
    "# Generalize the pattern"
   ]
  },
  {
   "cell_type": "code",
   "execution_count": 69,
   "metadata": {},
   "outputs": [],
   "source": [
    "def extract_record(item):\n",
    "    \"\"\"Extract and return data from a single record\"\"\"\n",
    "    \n",
    "    #description & url\n",
    "    atag = item.a\n",
    "    description = atag.text\n",
    "    url = 'https://www.lazada.com.ph' + atag.get('href')\n",
    "    \n",
    "    #price\n",
    "    price = item.span\n",
    "    discountprice = price.text\n",
    "    \n",
    "    result = (description, url, discountprice)\n",
    "    \n",
    "    return result"
   ]
  },
  {
   "cell_type": "code",
   "execution_count": 70,
   "metadata": {},
   "outputs": [],
   "source": [
    "records = []\n",
    "results1 = soup.find_all('div', {'GridItem__info___3PztA'})\n",
    "\n",
    "for item in results1:\n",
    "    records.append(extract_record(item))"
   ]
  },
  {
   "cell_type": "code",
   "execution_count": 71,
   "metadata": {},
   "outputs": [
    {
     "data": {
      "text/plain": [
       "('[Free Gifts] DERE Official R9 Pro Laptop For Sale Brand New 15.6 inch HD Screen | Intel Celeron N5100 / N5095 CPU | HD Graphics 600 | Windows 10 Pro | 2.4G WiFi+RJ45 Online Learning Computer PC (6+128/12+256/12+512, Red/Silver/Black/White)',\n",
       " 'https://www.lazada.com.ph//www.lazada.com.ph/products/free-gifts-dere-official-r9-pro-laptop-for-sale-brand-new-156-inch-hd-screen-intel-celeron-n5100-n5095-cpu-hd-graphics-600-windows-10-pro-24g-wifirj45-online-learning-computer-pc-61281225612512-redsilverblackwhite-i981638596-s9283737538.html?search=1&freeshipping=1',\n",
       " '₱14,999')"
      ]
     },
     "execution_count": 71,
     "metadata": {},
     "output_type": "execute_result"
    }
   ],
   "source": [
    "records[0]"
   ]
  },
  {
   "cell_type": "code",
   "execution_count": 72,
   "metadata": {
    "scrolled": true
   },
   "outputs": [
    {
     "name": "stdout",
     "output_type": "stream",
     "text": [
      "₱14,999\n",
      "₱34,299\n",
      "₱4,750\n",
      "₱8,450\n",
      "₱7,556\n",
      "₱20,990\n",
      "₱19,700\n",
      "₱14,699\n",
      "₱7,499\n",
      "₱5,350\n",
      "₱5,880\n",
      "₱5,650\n",
      "₱12,995\n",
      "₱24,599\n",
      "₱30,599\n",
      "₱7,150\n",
      "₱7,550\n",
      "₱6,192\n",
      "₱5,900\n",
      "₱7,967\n",
      "₱10,250\n",
      "₱4,742\n",
      "₱24,699\n",
      "₱5,950\n",
      "₱6,849\n",
      "₱29,691\n",
      "₱23,499\n",
      "₱5,399\n",
      "₱30,708\n",
      "₱18,135\n",
      "₱38,495\n",
      "₱18,676\n",
      "₱11,500\n",
      "₱71,690\n",
      "₱8,351\n",
      "₱5,349\n",
      "₱64,995\n",
      "₱15,000\n",
      "₱9,500\n",
      "₱64,995\n"
     ]
    }
   ],
   "source": [
    "for row in records:\n",
    "    print(row[2])"
   ]
  },
  {
   "cell_type": "markdown",
   "metadata": {},
   "source": [
    "# Next page"
   ]
  },
  {
   "cell_type": "code",
   "execution_count": 81,
   "metadata": {},
   "outputs": [],
   "source": [
    "def get_url(search_term):\n",
    "    \"\"\"Generate url from search term\"\"\"\n",
    "    template = 'https://www.lazada.com.ph/catalog/?_keyori=ss&from=input{}&spm=a2o4l.home.search.go.45d8359d4CpqYE'\n",
    "    search_term = search_term.replace(' ', '+')\n",
    "    \n",
    "    url = template.format(search_term)\n",
    "    \n",
    "    url +='&page={}'\n",
    "    \n",
    "    return url"
   ]
  },
  {
   "cell_type": "markdown",
   "metadata": {},
   "source": [
    "# Put all of it together"
   ]
  },
  {
   "cell_type": "code",
   "execution_count": 84,
   "metadata": {},
   "outputs": [],
   "source": [
    "import csv\n",
    "from bs4 import BeautifulSoup\n",
    "from selenium import webdriver\n",
    "\n",
    "def get_url(search_term):\n",
    "    \"\"\"Generate url from search term\"\"\"\n",
    "    template = 'https://www.lazada.com.ph/catalog/?_keyori=ss&from=input{}&spm=a2o4l.home.search.go.45d8359d4CpqYE'\n",
    "    search_term = search_term.replace(' ', '+')\n",
    "    \n",
    "    url = template.format(search_term)\n",
    "    \n",
    "    url +='&page={}'\n",
    "    \n",
    "    return url\n",
    "\n",
    "def extract_record(item):\n",
    "    \"\"\"Extract and return data from a single record\"\"\"\n",
    "    \n",
    "    #description & url\n",
    "    atag = item.a\n",
    "    description = atag.text\n",
    "    url = 'https://www.lazada.com.ph' + atag.get('href')\n",
    "    \n",
    "    #price\n",
    "    price = item.span\n",
    "    discountprice = price.text\n",
    "    \n",
    "    result = (description, url, discountprice)\n",
    "    \n",
    "    return result\n",
    "\n",
    "def main(search_term):\n",
    "    \"\"\"Run main program routine\"\"\"\n",
    "    #startup the webdriver\n",
    "    driver = webdriver.Chrome()\n",
    "    \n",
    "    record = []\n",
    "    url = get_url(search_term)\n",
    "    \n",
    "    for page in range(1, 3):\n",
    "        driver.get(url.format(page))\n",
    "        soup = BeautifulSoup(driver.page_source, 'html.parser')\n",
    "        results1 = soup.find_all('div', {'GridItem__info___3PztA'})\n",
    "        \n",
    "        for item in results1:\n",
    "            record = extract_record(item)\n",
    "            if record:\n",
    "                records.append(record)\n",
    "            \n",
    "    driver.close()\n",
    "    \n",
    "    #save data to csv file\n",
    "    with open('results1.csv', 'w', newline='', encoding='utf-8') as f:\n",
    "        writer = csv.writer(f)\n",
    "        writer.writerow(['Description', 'URL', 'Price'])\n",
    "        writer.writerows(records)"
   ]
  },
  {
   "cell_type": "code",
   "execution_count": 85,
   "metadata": {},
   "outputs": [],
   "source": [
    "main('&q=laptop')"
   ]
  },
  {
   "cell_type": "code",
   "execution_count": null,
   "metadata": {},
   "outputs": [],
   "source": []
  }
 ],
 "metadata": {
  "kernelspec": {
   "display_name": "Python 3",
   "language": "python",
   "name": "python3"
  },
  "language_info": {
   "codemirror_mode": {
    "name": "ipython",
    "version": 3
   },
   "file_extension": ".py",
   "mimetype": "text/x-python",
   "name": "python",
   "nbconvert_exporter": "python",
   "pygments_lexer": "ipython3",
   "version": "3.8.3"
  }
 },
 "nbformat": 4,
 "nbformat_minor": 4
}
